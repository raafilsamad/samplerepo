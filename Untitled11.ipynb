{
  "nbformat": 4,
  "nbformat_minor": 0,
  "metadata": {
    "colab": {
      "provenance": [],
      "authorship_tag": "ABX9TyOoyO3Cs0E/GwfTUpRk7ep9",
      "include_colab_link": true
    },
    "kernelspec": {
      "name": "python3",
      "display_name": "Python 3"
    },
    "language_info": {
      "name": "python"
    }
  },
  "cells": [
    {
      "cell_type": "markdown",
      "metadata": {
        "id": "view-in-github",
        "colab_type": "text"
      },
      "source": [
        "<a href=\"https://colab.research.google.com/github/raafilsamad/samplerepo/blob/master/Untitled11.ipynb\" target=\"_parent\"><img src=\"https://colab.research.google.com/assets/colab-badge.svg\" alt=\"Open In Colab\"/></a>"
      ]
    },
    {
      "cell_type": "code",
      "execution_count": 1,
      "metadata": {
        "colab": {
          "base_uri": "https://localhost:8080/"
        },
        "id": "bjh1qpb8kV0A",
        "outputId": "3b511687-ad48-40bd-e2b6-cdcc064b7f06"
      },
      "outputs": [
        {
          "output_type": "stream",
          "name": "stdout",
          "text": [
            "Welcome to random password generator!\n",
            "Please enter the number of passwords to be generated:4\n",
            "please enter the password length:8\n",
            "here are your Random passwords:\n",
            " RMgc0E5F\n",
            " fN1nen3O\n",
            " JP6tl5l3\n",
            " AwH9dag#\n"
          ]
        }
      ],
      "source": [
        "#Random password generator\n",
        "import random\n",
        "print(\"Welcome to random password generator!\")\n",
        "randomchar=\"ACDEFGHIJKLMNOPQRSTUVWXYZabcdefghijklmnopqrstuvwxyz1234567890@$#*\"\n",
        "numofpass=int(input(\"Please enter the number of passwords to be generated:\"))\n",
        "pwdlength=int(input(\"please enter the password length:\"))\n",
        "print (\"here are your Random passwords:\")\n",
        "for x in range(numofpass):\n",
        "    pwd=\" \"\n",
        "    for y in range(pwdlength):\n",
        "        pwd=pwd+random.choice(randomchar)\n",
        "    print(pwd)"
      ]
    }
  ]
}