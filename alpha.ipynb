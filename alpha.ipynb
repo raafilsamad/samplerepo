{
  "nbformat": 4,
  "nbformat_minor": 0,
  "metadata": {
    "colab": {
      "provenance": [],
      "authorship_tag": "ABX9TyMRVoPje62apJJXkkv4Il24",
      "include_colab_link": true
    },
    "kernelspec": {
      "name": "python3",
      "display_name": "Python 3"
    },
    "language_info": {
      "name": "python"
    }
  },
  "cells": [
    {
      "cell_type": "markdown",
      "metadata": {
        "id": "view-in-github",
        "colab_type": "text"
      },
      "source": [
        "<a href=\"https://colab.research.google.com/github/raafilsamad/samplerepo/blob/master/alpha.ipynb\" target=\"_parent\"><img src=\"https://colab.research.google.com/assets/colab-badge.svg\" alt=\"Open In Colab\"/></a>"
      ]
    },
    {
      "cell_type": "code",
      "source": [
        "# Dictionary of words per letter\n",
        "words_by_letter = {\n",
        "    'A': ['apple', 'ant', 'air', 'arrow', 'angel', 'army', 'art', 'animal', 'anchor', 'ask'],\n",
        "    'B': ['ball', 'bat', 'book', 'boy', 'bag', 'bed', 'bird', 'box', 'bus', 'bell'],\n",
        "    'C': ['cat', 'cup', 'car', 'cake', 'cap', 'cow', 'clock', 'cloud', 'coat', 'candle'],\n",
        "    'D': ['dog', 'door', 'duck', 'dish', 'day', 'drum', 'desk', 'doll', 'dust', 'dream'],\n",
        "    'E': ['egg', 'ear', 'elephant', 'eye', 'east', 'eat', 'energy', 'engine', 'echo', 'earth'],\n",
        "    'F': ['fish', 'fan', 'fog', 'fox', 'fire', 'fruit', 'fork', 'face', 'farm', 'feather'],\n",
        "    'G': ['goat', 'gum', 'game', 'gift', 'girl', 'gold', 'glass', 'gate', 'grass', 'grape'],\n",
        "    'H': ['hat', 'hand', 'hill', 'house', 'hen', 'hammer', 'heart', 'hero', 'hair', 'horse'],\n",
        "    'I': ['ice', 'ink', 'iron', 'igloo', 'idea', 'island', 'item', 'iceberg', 'invite', 'image'],\n",
        "    'J': ['jam', 'jug', 'jet', 'jungle', 'jacket', 'juice', 'jump', 'jewel', 'job', 'jar'],\n",
        "    'K': ['kite', 'king', 'key', 'kid', 'knee', 'kitchen', 'kick', 'knock', 'keep', 'know'],\n",
        "    'L': ['lamp', 'leaf', 'lion', 'lake', 'log', 'lamb', 'ladder', 'leg', 'line', 'lock'],\n",
        "    'M': ['man', 'map', 'moon', 'mouse', 'milk', 'mat', 'mud', 'mirror', 'meal', 'monkey'],\n",
        "    'N': ['net', 'nose', 'nest', 'nail', 'name', 'night', 'nut', 'note', 'number', 'needle'],\n",
        "    'O': ['owl', 'ox', 'oil', 'ocean', 'orange', 'oven', 'open', 'orbit', 'oak', 'order'],\n",
        "    'P': ['pen', 'pig', 'pan', 'pot', 'pet', 'pear', 'paper', 'paint', 'pizza', 'plant'],\n",
        "    'Q': ['queen', 'quilt', 'quiz', 'quill', 'quiet', 'quick', 'quart', 'quote', 'queue', 'quake'],\n",
        "    'R': ['rat', 'rain', 'ring', 'rose', 'road', 'rock', 'rope', 'river', 'rice', 'ruler'],\n",
        "    'S': ['sun', 'sand', 'sock', 'star', 'snow', 'soap', 'ship', 'shoe', 'stone', 'stick'],\n",
        "    'T': ['top', 'toy', 'tea', 'tree', 'tiger', 'towel', 'tent', 'tap', 'train', 'truck'],\n",
        "    'U': ['urn', 'umbrella', 'uncle', 'under', 'use', 'uniform', 'up', 'unit', 'unicorn', 'urge'],\n",
        "    'V': ['van', 'vase', 'vest', 'village', 'vote', 'voice', 'vapor', 'veil', 'vine', 'violin'],\n",
        "    'W': ['wolf', 'wall', 'web', 'window', 'water', 'wheel', 'wing', 'wish', 'worm', 'wood'],\n",
        "    'X': ['xylophone', 'xenon', 'xerox', 'x-ray', 'xylem', 'xenial', 'xanthan', 'xeric', 'xenogeneic', 'xiphoid'],\n",
        "    'Y': ['yak', 'yarn', 'yellow', 'yawn', 'yard', 'yogurt', 'year', 'yolk', 'yes', 'youth'],\n",
        "    'Z': ['zebra', 'zip', 'zoo', 'zero', 'zone', 'zigzag', 'zinc', 'zeal', 'zest', 'zombie'],\n",
        "}\n",
        "\n",
        "# Ask user to input a letter\n",
        "letter = input(\"Enter an alphabet letter (A-Z): \").upper()\n",
        "\n",
        "# Check if input is valid and display words\n",
        "if letter in words_by_letter:\n",
        "    print(f\"\\nWords starting with '{letter}':\")\n",
        "    for word in words_by_letter[letter]:\n",
        "        print(word)\n",
        "else:\n",
        "    print(\"Invalid input! Please enter a letter from A to Z.\")\n"
      ],
      "metadata": {
        "colab": {
          "base_uri": "https://localhost:8080/"
        },
        "id": "GITpVcVguf_o",
        "outputId": "6ecbad1d-3e0a-4538-a610-7b3ceaccc4d6"
      },
      "execution_count": 4,
      "outputs": [
        {
          "output_type": "stream",
          "name": "stdout",
          "text": [
            "Enter an alphabet letter (A-Z): z\n",
            "\n",
            "Words starting with 'Z':\n",
            "zebra\n",
            "zip\n",
            "zoo\n",
            "zero\n",
            "zone\n",
            "zigzag\n",
            "zinc\n",
            "zeal\n",
            "zest\n",
            "zombie\n"
          ]
        }
      ]
    }
  ]
}